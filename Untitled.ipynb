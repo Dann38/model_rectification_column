{
 "cells": [
  {
   "cell_type": "code",
   "execution_count": 1,
   "id": "277ccdd9-4b23-4329-966b-0c30a6f86d0c",
   "metadata": {},
   "outputs": [],
   "source": [
    "import numpy as np\n",
    "import matplotlib.pyplot as plt"
   ]
  },
  {
   "cell_type": "code",
   "execution_count": 113,
   "id": "d288ea3d-1b94-4611-8286-21c0d4e5d3c8",
   "metadata": {},
   "outputs": [],
   "source": [
    "S0 = 0\n",
    "S1 = 2\n",
    "T0 = 0\n",
    "T1 = 4.1\n",
    "C1 = 3\n",
    "C2 = 1\n",
    "\n",
    "\n",
    "m_input = 10\n",
    "M = m_input*2\n",
    "\n",
    "T_min_ij = (2*T0-(T1-T0))/(2*DeltaS)\n",
    "T_max_ij = (2*T1-(T1-T0))/(2*DeltaS)\n",
    "S_min_ij = (S0-Sc)/DeltaS\n",
    "S_max_ij = (S1-Sc)/DeltaS\n",
    "\n",
    "\n",
    "\n",
    "# min_j = -int()\n",
    "min_j = int((S_max_ij*C1+T_max_ij)/(C1+C2))\n",
    "min_i = int(S_max_ij+min_j) \n",
    "\n",
    "Sc = (S1-S0)/2\n",
    "Tc = (T1-T0)/2\n",
    "\n",
    "DeltaS = (S1-S0)/M\n",
    "Delta1T = C1*DeltaS \n",
    "Delta2T = C2*DeltaS\n",
    "\n",
    "L = np.array([[DeltaS,   DeltaS], \n",
    "              [-Delta1T, Delta2T]])\n",
    "v = np.array([Sc, Tc])\n",
    "\n",
    "Ind = np.array([[[i, j] for j in range(-min_j, min_j+1)] for i in range(-min_i, min_i+1)])\n",
    "\n",
    "Ind_cord = np.array([[L@vec+v for vec in row] for row in Ind])\n"
   ]
  },
  {
   "cell_type": "code",
   "execution_count": 114,
   "id": "fbb57f23-d885-42dd-bfa7-11dbb8c32022",
   "metadata": {},
   "outputs": [
    {
     "data": {
      "text/plain": [
       "[<matplotlib.lines.Line2D at 0x7c3c27255c30>]"
      ]
     },
     "execution_count": 114,
     "metadata": {},
     "output_type": "execute_result"
    },
    {
     "data": {
      "image/png": "[encoded data removed]",
      "text/plain": [
       "<Figure size 640x480 with 1 Axes>"
      ]
     },
     "metadata": {},
     "output_type": "display_data"
    }
   ],
   "source": [
    "\n",
    "\n",
    "\n",
    "for row_cord, row_ind in zip(Ind_cord, Ind):\n",
    "    for vec, inds in zip(row_cord, row_ind) :\n",
    "        t_ind = C2*inds[1]-C1*inds[0]\n",
    "        s_ind = inds[0]+inds[1]\n",
    "        if (T_min_ij <= t_ind) and (T_max_ij >= t_ind) and \\\n",
    "           (S_min_ij <= s_ind) and (S_max_ij >= s_ind) :\n",
    "            plt.scatter(vec[0], vec[1], color=\"b\")\n",
    "plt.plot([S0, S1], [T0, T0], \"r\")\n",
    "plt.plot([S0, S1], [T1, T1], \"r\")\n",
    "plt.plot([S0, S0], [T0, T1], \"r\")\n",
    "plt.plot([S1, S1], [T0, T1], \"r\")\n",
    "# plt.xlim([S0, S1])\n",
    "# plt.ylim([T0, T1])"
   ]
  },
  {
   "cell_type": "code",
   "execution_count": 47,
   "id": "73e53bcc-607b-4f69-b22c-9c3e6b47a13e",
   "metadata": {},
   "outputs": [
    {
     "data": {
      "text/plain": [
       "(-10.0, 10.0)"
      ]
     },
     "execution_count": 47,
     "metadata": {},
     "output_type": "execute_result"
    }
   ],
   "source": [
    "\n",
    "\n",
    "T_min_ij, T_max_ij"
   ]
  },
  {
   "cell_type": "code",
   "execution_count": null,
   "id": "302a08ed-756a-45ee-9fbe-78957dc0dc21",
   "metadata": {},
   "outputs": [],
   "source": []
  }
 ],
 "metadata": {
  "kernelspec": {
   "display_name": "Python 3 (ipykernel)",
   "language": "python",
   "name": "python3"
  },
  "language_info": {
   "codemirror_mode": {
    "name": "ipython",
    "version": 3
   },
   "file_extension": ".py",
   "mimetype": "text/x-python",
   "name": "python",
   "nbconvert_exporter": "python",
   "pygments_lexer": "ipython3",
   "version": "3.10.12"
  }
 },
 "nbformat": 4,
 "nbformat_minor": 5
}
