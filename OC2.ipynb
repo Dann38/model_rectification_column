{
 "cells": [
  {
   "cell_type": "markdown",
   "id": "c95b3d6b-54d4-497f-803a-5422708d5bb5",
   "metadata": {},
   "source": [
    "$$J(u) = - \\frac{1}{2}x(2)+\\int_{0}^{2}(x^2(t)-u^2(t))dt \\to min$$\n",
    "$$\\dot x = ux + x^2, \\quad x(0)= 0, \\quad \\| u(t)\\| \\leq 1$$"
   ]
  },
  {
   "cell_type": "markdown",
   "id": "2acbf9c1-bd63-4b39-ab27-115668fb2c7f",
   "metadata": {},
   "source": [
    "### Функция Понтрягина\n",
    "$$H(\\psi, x, u, t) = \\psi (ux+x^2) - x^2 + u^2$$\n",
    "$$H_u = \\psi x + 2u$$\n",
    "$$H_x = - 2x+\\psi u+2x\\psi$$\n",
    "$$\\phi_x = -\\frac{1}{2}$$\n",
    "\n",
    "### Сопряженнаяя система\n",
    "$$\\dot \\psi = -H_x = 2x(1-\\psi)-\\psi u, \\quad \\psi(2) = - \\psi_x(2) = \\frac{1}{2}$$"
   ]
  },
  {
   "cell_type": "code",
   "execution_count": 26,
   "id": "fcfd7efb-caa0-471a-bc67-3d4ff5a676e0",
   "metadata": {},
   "outputs": [],
   "source": [
    "using LaTeXStrings\n",
    "using Plots"
   ]
  },
  {
   "cell_type": "code",
   "execution_count": 40,
   "id": "65b4c120-cd6f-44bd-9f3a-ed015b12924a",
   "metadata": {},
   "outputs": [
    {
     "data": {
      "text/plain": [
       "new_u (generic function with 1 method)"
      ]
     },
     "execution_count": 40,
     "metadata": {},
     "output_type": "execute_result"
    }
   ],
   "source": [
    "t = 0:0.01:2\n",
    "\n",
    "function dxdt(uk)\n",
    "    delta_t = t[2]-t[1]\n",
    "    n = length(uk)\n",
    "    x = zeros(n)\n",
    "    x[1] = 0\n",
    "    for i = 2:n\n",
    "        x[i] = x[i-1] + (uk[i-1]*x[i-1]+x[i-1]^2)*delta_t\n",
    "    end\n",
    "    return x\n",
    "end\n",
    "\n",
    "function dpsidt(xk, uk)\n",
    "    delta_t = t[2]-t[1]\n",
    "    n = length(xk)\n",
    "    psi = zeros(n)\n",
    "    psi[1] = 1/2\n",
    "    for i = 2:n\n",
    "        psi[i] =  psi[i-1] + (2*xk[i-1]*(1-psi[i-1])-psi[i-1]*uk[i-1])*delta_t\n",
    "    end\n",
    "    return psi\n",
    "end\n",
    "\n",
    "function Hu(xk, psik, uk)\n",
    "    return psik.*xk + 2*uk\n",
    "end\n",
    "\n",
    "function argmax_v(Hk)\n",
    "    n = length(Hk)\n",
    "    v_var = -1:0.01:1\n",
    "    arg = Hk * transpose(v_var)\n",
    "    v = zeros(n)\n",
    "    for i=1:n\n",
    "        _, ind = findmax(arg[i, :])\n",
    "        v[i] = v_var[ind]\n",
    "    end\n",
    "    return v\n",
    "end\n",
    "\n",
    "function delta_test(Hk, vk, uk)\n",
    "    n = length(t)\n",
    "    delta_t = t[2]-t[1]\n",
    "    rez = 0\n",
    "    for i=1:n\n",
    "        rez += Hk[i]*(vk[i]-uk[i])*delta_t\n",
    "    end\n",
    "    println(\"delta t\", delta_t)\n",
    "    return delta_t == 0\n",
    "end\n",
    "\n",
    "function new_u(vk, uk)\n",
    "    delta_t = t[2]-t[1]\n",
    "    a = 0.1:0.01:0.9\n",
    "    n = length(t)\n",
    "    m = length(a)\n",
    "    uk_a = ones(m)*transpose(uk) + a*transpose(vk-uk)\n",
    "    J = zeros(m)\n",
    "    for i = 1:m\n",
    "        u_ai = uk_a[i, :]\n",
    "        x_ai = dxdt(u_ai)\n",
    "        J[i] = - 0.5 * x_ai[end]\n",
    "        for k = 1:n-1\n",
    "            J[i] += (x_ai[k]^2 - u_ai[k]^2)*delta_t\n",
    "        end\n",
    "    end\n",
    "    J_min, ind = findmin(J)\n",
    "    return uk + a[ind]*(vk-uk), J_min \n",
    "end"
   ]
  },
  {
   "cell_type": "code",
   "execution_count": 41,
   "id": "f1236ab9-ed96-40bd-989e-51be2462c1c6",
   "metadata": {},
   "outputs": [
    {
     "name": "stdout",
     "output_type": "stream",
     "text": [
      "delta t0.01\n",
      "-1.8818\n",
      "delta t0.01\n",
      "-1.988017999999994\n",
      "delta t0.01\n",
      "-1.9988001799999926\n",
      "delta t0.01\n",
      "-1.9998800018000027\n",
      "delta t0.01\n",
      "-1.9999880000180068\n",
      "delta t0.01\n",
      "-1.9999988000001774\n",
      "delta t0.01\n",
      "-1.9999998799999947\n",
      "delta t0.01\n",
      "-1.9999999880000006\n",
      "delta t0.01\n",
      "-1.999999998799993\n",
      "delta t0.01\n",
      "-1.9999999998800062\n",
      "delta t0.01\n",
      "-1.999999999988003\n",
      "delta t0.01\n",
      "-1.9999999999988025\n",
      "delta t0.01\n",
      "-1.999999999999877\n",
      "delta t0.01\n",
      "-1.9999999999999933\n",
      "delta t0.01\n",
      "-2.000000000000001\n",
      "delta t0.01\n",
      "-2.0000000000000013\n",
      "delta t0.01\n",
      "-2.0000000000000013\n",
      "delta t0.01\n",
      "-2.0000000000000013\n",
      "delta t0.01\n",
      "-2.0000000000000013\n",
      "delta t0.01\n",
      "-2.0000000000000013\n",
      "delta t0.01\n",
      "-2.0000000000000013\n",
      "delta t0.01\n",
      "-2.0000000000000013\n",
      "delta t0.01\n",
      "-2.0000000000000013\n",
      "delta t0.01\n",
      "-2.0000000000000013\n"
     ]
    }
   ],
   "source": [
    "m = 25\n",
    "n = length(t)\n",
    "U = zeros(m, n)\n",
    "X = zeros(m, n)\n",
    "u0 = ones(n)*0.7\n",
    "U[1, :] = u0\n",
    "\n",
    "for i in 1:m-1\n",
    "    u0 = U[i, :]\n",
    "    x0 = dxdt(u0)\n",
    "    X[i,:] = x0\n",
    "    psi0 = dpsidt(x0, u0)\n",
    "    H0 = Hu(x0, psi0, u0)\n",
    "    v0 = argmax_v(H0)\n",
    "    if ~delta_test(H0, v0, u0)\n",
    "        u1, J = new_u(v0, u0)\n",
    "        println(J)\n",
    "        plot(t, [u0 u1], label=[L\"u^k\" L\"u^{k+1}\"],ylims=(-1,1),lw=3)\n",
    "        u0 = u1\n",
    "        U[i+1,:] = u0\n",
    "    end\n",
    "end"
   ]
  },
  {
   "cell_type": "code",
   "execution_count": 42,
   "id": "c5ea009d-9351-4e55-ab58-ee2c974fa9c9",
   "metadata": {},
   "outputs": [
    {
     "name": "stderr",
     "output_type": "stream",
     "text": [
      "\u001b[36m\u001b[1m[ \u001b[22m\u001b[39m\u001b[36m\u001b[1mInfo: \u001b[22m\u001b[39mSaved animation to /home/daniil/program/julia/anim2_u.gif\n"
     ]
    },
    {
     "data": {
      "text/html": [
       "<img src=\"data:image/gif;base64,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\" />"
      ],
      "text/plain": [
       "Plots.AnimatedGif(\"/home/daniil/program/julia/anim2_u.gif\")"
      ]
     },
     "execution_count": 42,
     "metadata": {},
     "output_type": "execute_result"
    }
   ],
   "source": [
    "anim = @animate for i ∈ 1:m\n",
    "    plot(t, [U[i, :]], label=L\"u\",ylims=(-1,1),lw=3)\n",
    "end\n",
    "gif(anim, \"anim2_u.gif\", fps = 5)"
   ]
  },
  {
   "cell_type": "code",
   "execution_count": 43,
   "id": "8bd47c66-eab3-4250-a410-e771a744176e",
   "metadata": {},
   "outputs": [
    {
     "name": "stderr",
     "output_type": "stream",
     "text": [
      "\u001b[36m\u001b[1m[ \u001b[22m\u001b[39m\u001b[36m\u001b[1mInfo: \u001b[22m\u001b[39mSaved animation to /home/daniil/program/julia/anim2_x.gif\n"
     ]
    },
    {
     "data": {
      "text/html": [
       "<img src=\"data:image/gif;base64,R0lGODlhWAKQAfcCAAAAAACb+gD/AAEBAQICAgMDAwQEBAUFBQcHBwee+ggICAkJCQoKCgsLCwuf+gwMDA0NDQ4ODg8PDxAQEBERERMTExQUFBUVFRYWFhcXFxgYGBkZGRsbGxwcHB0dHR4eHh8fHyAgICEhISIiIiMjIyQkJCUlJSYmJicnJygoKCir+ykpKSsrKywsLC0tLS4uLi8vLzAwMDCs+DExMTGu+jIyMjMzMzOv+zQ0NDU1NTY2Njc3Nzev+Tk5OTo6Ojs7Ozw8PD09PT4+Pj8/P0BAQECy+EFBQUJCQkNDQ0RERES2+0ZGRka2+0dHR0hISElJSUpKSktLS0u4+0xMTE1NTU23+E5OTlBQUFFRUVJSUlNTU1VVVVZWVle9/FlZWVpaWltbW1xcXF1dXV5eXmFhYWJiYmLA+mNjY2VlZWZmZmdnZ2lpaWtra21tbW5ubm9vb3BwcHFxcXNzc3R0dHV1dXZ2dnd3d3h4eHp6ent7e3x8fH9/f4GBgYKCgoSEhIWFhYaGhoiIiImJiYqKiouLi4yMjIzS/Y2NjY6Ojo+Pj5CQkJKSkpOTk5SUlJWVlZaWlpeXl5iYmJmZmZqampubm5ycnJzT9Z6enqCgoKGhoaKioqOjo6SkpKampqenp6fc/aioqKmpqaqqqqurq6ysrK2tra+vr7GxsbKysrOzs7S0tLW1tba2tri4uLm5ubq6uru7u7vk/ry8vL29vb6+vr7m/r+/v8DAwMDm/sHBwcLCwsLh9MPDw8TExMXFxcbGxsbl+MjIyMjn+snJycrKysvLy8zMzMzr/s3Nzc7Ozs/Pz8/m9NDQ0NHR0dHt/tLS0tPT09XV1dXv/tbW1tfX19jY2Nra2tvb29zc3N3d3d7e3t/f3+Dg4OHh4eLi4uPj4+Tk5OXl5ebm5ubz++fn5+jo6Onp6erq6uvr6+zs7O3t7e7u7u/v7/Dw8PHx8fLy8vPz8/T09PX19fX7//b29vb7//f39/j4+Pn5+fn9//r6+vv7+/z8/P39/f7+/v///yH/C05FVFNDQVBFMi4wAwEAAAAh+QQFFAACACwAAAAAWAKQAYcAAAAAm/oA/wABAQECAgIDAwMEBAQFBQUHBwcHnvoICAgJCQkKCgoLCwsLn/oMDAwNDQ0ODg4PDw8QEBARERETExMUFBQVFRUWFhYXFxcYGBgZGRkbGxscHBwdHR0eHh4fHx8gICAhISEiIiIjIyMkJCQlJSUmJiYnJycoKCgoq/spKSkrKyssLCwtLS0uLi4vLy8wMDAwrPgxMTExrvoyMjIzMzMzr/s0NDQ1NTU2NjY3Nzc3r/k5OTk6Ojo7Ozs8PDw9PT0+Pj4/Pz9AQEBAsvhBQUFCQkJDQ0NEREREtvtGRkZGtvtHR0dISEhJSUlKSkpLS0tLuPtMTExNTU1Nt/hOTk5QUFBRUVFSUlJTU1NVVVVWVlZXvfxZWVlaWlpbW1tcXFxdXV1eXl5hYWFiYmJiwPpjY2NlZWVmZmZnZ2dpaWlra2ttbW1ubm5vb29wcHBxcXFzc3N0dHR1dXV2dnZ3d3d4eHh6enp7e3t8fHx/f3+BgYGCgoKEhISFhYWGhoaIiIiJiYmKioqLi4uMjIyM0v2NjY2Ojo6Pj4+QkJCSkpKTk5OUlJSVlZWWlpaXl5eYmJiZmZmampqbm5ucnJyc0/Wenp6goKChoaGioqKjo6OkpKSmpqanp6en3P2oqKipqamqqqqrq6usrKytra2vr6+xsbGysrKzs7O0tLS1tbW2tra4uLi5ubm6urq7u7u75P68vLy9vb2+vr6+5v6/v7/AwMDA5v7BwcHCwsLC4fTDw8PExMTFxcXGxsbG5fjIyMjI5/rJycnKysrLy8vMzMzM6/7Nzc3Ozs7Pz8/P5vTQ0NDR0dHR7f7S0tLT09PV1dXV7/7W1tbX19fY2Nja2trb29vc3Nzd3d3e3t7f39/g4ODh4eHi4uLj4+Pk5OTl5eXm5ubm8/vn5+fo6Ojp6enq6urr6+vs7Ozt7e3u7u7v7+/w8PDx8fHy8vLz8/P09PT19fX1+//29vb2+//39/f4+Pj5+fn5/f/6+vr7+/v8/Pz9/f3+/v7///8I/wD/CRxIsKDBgwgTKlzIsKHDhxAjSpxIsaLFixgzatzIsaPHjyBDihxJsqTJkyhTqlzJsqXLlzBjypxJs6bNmzhz6tzJs6fPn0CDCh1KtKjRo0iTKl3KtKnTp1CjSp1KtarVq1izat1Kkt6tQnoQ0gsURhA9rmjTql3LFuIsGFAYIMzSRNSSLW3z6t3Lt6oxuQatKWD3j52CbH0TK17MeOffg5t0DMzRqbHly5gzi3xskNCTgVAOHfTHAotpLIngqV69eh3r17Bjy55Nu7bt27hz23bXTrfv38CDC8/terjx48iTvy6uvLnz57TbvcO9byTngoySDETy6OC+AqHCh/+K1q+8efPuzqtfz769+/fw48ufTz/+PXr18+vfz78//Xb+BSjggASuB2CBCCaoIHzy4DMfSdcRZMoJA5mAincGOASPZg3pcw+HDL0D4kIijpiQPdXFFOEs1fwDjwTD/BPMBPFgqKGJCXmII0Il7lhQjz4OhCJM5YzAwQAjCCGQD4QIJIkFVFhQCUL7ZNjQhkESpGOWAwGZpZdBDvnSPtmUmU03AoXTzkDewPJNQlXeyKVAW84Jpo937ijmUXFeOSedH/6ZJ46DmrinUX0yhOWcdXJZ6IiPgnhoUYkutCiXjX755z+RcjgpUZUqdGmWmQbZqWanZvbpUKEmNGqQpeL/uWmqmK0qVKsIvepjrDvSepmvltkaFK4H6bojr4TO6pM+YWzh7LPQRivttNRWa220jvwjLFDEGmQsjsiaCGxj467ETgOipKvuuuy26+678Ma7rh1UaJsin1Yqumm4kCrbEzsT7IRKvdv+1G1B35rIL4jlLtZwSgALTPC9iOZr6b6B2ukvTxHrNLC9SR1MUMIjLszhw4mhfFLHOX1csE8iD0QyiCajuvFOLOPkMsWUWiwqxjdr+m/AHk8css+uAi1o0DnlfNPOR8vJaMaOMo2T0zZBjVTMAs3MYc2ZqcyX2CVhXZPW+EqNKdVCazw0TLnAkscocBBTENoVq00q26Za/31Tzp8wocTghBdu+OGIIy5FLQSZ88s/S2Sjijl3G7010rkq7fbmOBP9Tz4JBCD66KSXbvrpqAeggkH94IAQ3j3rDSvfsi799kA0pK777qd3YVAyYvxzjUGwg4p5sZpXbTvHnv8zTy2xRC/99NRXb731uORDUCGXDILHPaQQb3nafv4JNmZk65X+SGajJM4q5NhCCz/ig3y57LvS3qvfNrU/U/GsOp63ktc25TFPYvYjn77Mp79kLa9zCHxZT7jmIgL27YE68Z9MAHgrASLMgrXjXAab97Tx5a18U+OfuHyiwZhwcFgeHBkI94fBppEwayaMHQrXpsJ+3a5lOTQe/v+O1cAV1vBqNzxbEAM4RHAV0YcizMk7CmCDKlrxiljMoha3yMUuXrEEV0jgCReYwiPSsCfQMIYa18jGNrrxjXCMoxzbKA4x6pCMPDSjA+ckQZ5Q0GuaOd+veigpnglxh3sj5Mk21ced/HGGezQglxqpk0cyUJE2+xMlc2LJMkYxhJM0JBMROTtMho2RouxgExX2RIaZslaphOEqS9bKRerRULHkVgxlBkkjflJPuTTYLrvWSyhKMkubxEkn8/jLSCIzmDAbZgUveUtjPjNqpMzfKwepSWhOUJqAzIwgLbO+tpSTLcm8yTITWU1XdhObeGRnM30ZSnhejJrztGaYvOn/R3AW0535LKQ9f4bPY16Qj/x0pD8LWsCG7nOgSWPoQQ3qo3TaZJ2lbKctEQrRzEkUlA6taEIruVBPUvSM9bxfNom4TXKisqPI+yhKQwpMmA5Qps6c6DVVGs+MBnSjKVXgPU1K05yK1KYfxCk9i4pLpMpQqfoE6UN5OlRmntSoNaUqQYmq064eVasR5apUx5pVoW7VqkyNalnHWFV5XnWpUzVrWNHq1ZnGla1ndWtaARpUvM5Vr3XFKo4sWhOMalOjmeQoWD0qVruSdbAj5WRJ6fpYuH5VroylrGM3C1mn8hKqfN2rpyKrzMkCtrJq7SxM0jGHK/DhLAWZhB1mWwgq/5nWp29NbVNh8gMwsGIJYTDIEdQgCUmEwrazpFktE5tbgb5kRvj4RzkQEI6CHGEUCzEsSxF7yne+hBFNGEgKUmHdK6xhEfJA7kqd2FJyvfQlevDCQIBAiYL0QRGRGIIL7OGdARjhv0b4w2zKAZ0CG/g560jHgRfMYOGQo8EQjrBtHizhCltYNehgB3VCAogsDMQGlTkIPkIACu8UABYohgViMntazlp2rSzRRA0E0o8L8CIhSFCEjdbLyvYy5pxrIexG1tEAZfzjFB2gnzFe8Y97nEMgzWhAMHbc08P+lLk7fckjKmCECpxCIHiYwj/I0YAY6AACf1Bvlbd75e4qlv9IwSCMQOThDoHEQxnFqLOa24pb0WL5rnfks5WbC9Qs+5XFfQ7si1WL2Zg2VrCL3m2jb/roSOt2REKeiXbZy130vXfSSa30pUML6EOumdNt9rR3Qf1UUZMatc5l9WddXWhFY5q06rztoP3s5r4GOq+JhnWtL3toR2sW0qMerWeJCdphu/jWy54mrf8sbM1kWiab7nGnufnmYlP62JZ+NYxNLWg2E5ra4x7lqbWdam77mtzA3rWtxc1ob4ca3MlGd71//ddgP5vekrZ3q/EN8HyrCtcX1bW5ea3qbvMb0fKudq8N/XBjtxjZBY+1wGdNcGdjXNmLtbi/P67vgFf82xf/D7fHTQ7vfkf83yuHdshRPnKVl1zmsmb2tCc+b5DnXNodv3nGfb5xnQed5xKHZbTDiZlxunfbwUJ4YRWO6nMjPd2q5DEtfeywTxcd6Ck3eMPfre5yV53h7qZ4yyG+8J4Lnegnv3fYh/52a0udJtneOtSf7vC1i/zlJL/6vv1Oc8DbXPAsL3u82570tJda8S5nPMzrfvCl/zPmdK/8zOVec7E7nthxH/jcMU96u1u+2ZQfu9ohz/azux3xOP860y/j9B9zXTHXjknelXv7lHk99Bwffeo/j3VZap33e7f9qmV/+eG7dPnAN7rwYZ95pW9e9J2vPvEHz/q/Sz7wqn98/9bXrfd2P7/v3S/89w8fftATnvOG9/z5yT5+s7Pb6u0vvi6T+7XlUr/0mvdzs2cZtdd1ybcYuQcTu9d/vdcXQKYWCTgmVHd/aDd/q1d/i+d6jWeB4md85Id85sd39OeB9ld++Ld9iYeBkaeBk/d/pnd9wZd9AJh/3KeCrUeBr0eDKUiCGYiDGyiCF8iDK+iDLaiDsRd9YCeDzgeEHbh/x8eAB6gYD5gWEegSCxhI/meE2hd1p7dzWjiDl1GFLXGF4pSFKCh/jSGGLEGGTWeGHPiDjKGGE0EMW9AEjeAPBpEObZAEbqAOe9aDJliBTOh+KiEOErAIs4ACjWAQSAAGvv/wBdpBZSUIgif4hvpnEn5gBQJhCiZQENDAAOklDwwQDZIIiJQoiMqHfimRBYEgEOYAAECSCT0wED2wCaWIEM5QBDewi7zYi774i8AYjMI4jMRYjMZ4jMj4izRAA8nYjM74jNAYjcgoA9JYjdZ4jdj4i9SYjdzYjd5IjDxgBvXwEj8gCQKxDwBgDQQxCFAwEFHQJAaxDwMwA/Q4A30gG1XAO/q4j/zYj/74jwAZkAI5kARZkAZ5kAiZkAq5kAzZkA7Zj5ZwG3e3EE2gY//gDgBADgTxCEcwEEYQCSbGRnV0EIbwkCZ5kiiZkiq5kizZki75kjB5kg4gDS+BBm4gEMr/sAD0MxCqEAIDAQKscIsIsQzHUJRGeZRImZRKuZRM2ZRO+ZRQGZVSmZTCAAxTeZVYmZVauZVSuQtc+ZVgGZZimZReOZZmeZZo6ZTAMA4wMQsckA7/sAZjIBChgAxNZgGu8A+tgAHRFY8TGIg5eIYaxxL+sAYY4AIpgCb/wCQCUQoVgAMWYAp/OISACYcGqIoqQQ7T0A8DgQ876SLQUCOTeYOVWYSCCXfvh33xt4WDeInRxH9Y2IBj83upGYOrCYaWWINCSJqnGJi5uYNO+IFQGIKpOILBOYnDWYmtqZvHaYrJiYqXaZzCBJtlKJt7MYVoIYcqwYa054bLyX5hOJHY//aXvWmZUkib6Qd/64eGxRmEzUmZ5Wmav3mEtSl9SuiC+Gl9Ath8+XmaL7ifqNef8zmY9ZmEt7mE7dmE0/mEsRmFvgd9BTqAjVGA5+mgfaGdKcGdBOidCWqeiYGhKKGhE8qh0QmduCeeukeez+mb30mf6ama68maHeqa30SdbWid6oOeNuh9LAh+/hmAzBegX4igCIiiCqiiDUqcJaqgr8mg1WmhswmhL2qbMYqbLUqgU2qfByqgV4qaWWqgVUqkFYqZ78mbK+qhDqiju8mjROijA+qlO6p+PQqeb/qfQeqFPzqkQIqEEsoYFPqgSnqiXXh0elqo4Tmo02eodbqnEf/Kn4rapXbKp46ap5TKhTCopWHKpTPKnAsqnEmqnJsKnJ2KnJ9qooAqnU3qqU8aqKfqnqPqnKXKoqHqonGqnnPKnktKiLUKo7cqo7lKo/1ko92Jo3mBnVwBoichon5KomMKqkWKqPf5qLOKpbtKpb1qpdMKp2sqp21Kp5DKqF/ap4vxp2kKpXuBrCahrOPKrK0qq896qWB6rWLarrq6rbbarbjarK6aqqS6qs6qr0xao056o+aao1JarZgqr5r6q5zKr7Dqr6ZarmT6qvB5pvL5rfp5p4RaqRh7qPAqropBrlHKqhdqpBIorBtKrOakpmXKpqXpph1rqQCKp4sqre//OrMbW7McG4cma4VICrHuCrD12rLc+rLemq2R2qhCurMMK6oOW7GxiqYji6oCq6oES7JTu69V269X+6/0CqwKhbIjqrJsYaxbga4loa4hy64S67UlC61barNCC7YkJbbLSrZrYbZagbYkobaJIbLXibcQ2LNj+LNdG7FZG7DBOrDDWrDFyrIUa6ZRe7FIC64q0Q1hgANrsA4GwQfP8gaj6bLxCbOVm7GE6QJwwAxeUC/WFQfpEpRCKboWS7pNS6soYQsYQD/rcADaYF3YpRB+2xeAa7BYe66EOxGK8BkCwQJfRhBHMARTcAeUE7tFO7pHW7vU+hG+sL3c6wsamQdf/zBfk1AQjjAKp7AFILAm8TgAIdC+IWAH7xC/8iu/5DC/9nu/+Ju/+ru//Nu//vu/ANy/6oAOAVzABnzACJzAACwOCtzADvzAEHy/DBzBFFzBFsy/57AO/6sPGBEEHvzBQSCZgRBGAjEDx3UQ/YACtuiXZpINcia7k0u7c9uwJAEKLXCOFDBlCGEEi0C992q0+fq1NDwS8BABt/APmWACeGgLJSYP1CAQsqAARuaXdruugpsWepsVfLsQolABKMABuiAQehBG5nABGsABUhK61Tu71zvDTmsS+MANouQP5FBdcGK4jVu8xEu1i2u1eey2iTu0kQvDQCu1gXuw9sqr+P/qq25su0T7w9YbxG2rtX3MtX+MuIc8sU8ruYVMudirrY+syEDMyEL8xpX8sIcbtKXsyIO8xjHcxqucvaFsrYuMrZ+ctOE6qTq7y2l4vCsRvHwxvI/ruG2xxSIBzHshzCtLzOjky9uJxynLzHkLuZtMyKlsyHtMyWHLuNGsx8OsyVuLypesypOsuNvsx90MyJnMx+dsyemMydlsznXLzWMrzWqRxVhhzCGBzHqhzGV7xdnpzBkKzfXszcsMzqcMtZ0sw7EMyq0MyWwsyYFMt5JVxWsL0FyBz1ehzyDBz3nhz9Nsz1Qo0CFK0Hcr0mih0VbB0R/h0W0B0veM0WdL0sn/atJWjNIZTc3hrNDX7MmNLMsPLcqRTMrlLMjV7MoLDctFTdGlZdF/y7YTzdBv+7G6HLNWzbNwm6ly29C4jLDxWsvzutRD3M7i/M7kHNWmTNY8Pc7Y/M3sPM/oXNDqHM9GvdOc3NNSjdasfNQQ/coSvc7aDNfuLNfw7NaBXdH0fNIG/c+IPMsJC9YL+9MOzddCHdFErddATdm0PMq2LNldncibPdSdzdWWC9qPzdlhjdmTbdfWzNY+Tdqmq7Q0e9W3XNqO/dWoHdmw7bE4m6hM69m2HdShbdmjLdZpLdhlTdhnDdjyjNhxrdhzbdjN3dSJfdOLHdIIrdZ37dp5zdx1/53Q223WbX3Qb+3cgw3dhU3eh03dz23d0a3e051rTi28UO3drz3VvR2tv73bMquxvs3Lpcvb/q3fAF7bsZ3LS1vgwH3gXg2yTy3TWqHSVcHSHuHSbAHTWAzhWkzT6WrTF43TWyHhVEHhHWHha4HhKa3h+czhaevhDw7iEa7T4N3a4n3fqv3Zt+3g9K3iVyHiU0HiHGHiaoHiOQ3jG57VCrvVxr3XrI3UeK3UNx7cmn3aop3a9j3WyL3WNd7ddM3U8l3dH37dMd3Ywk3lxG3lXY7l5q0Qj2DHXNILq/An7jAImwIIsMUlplAMRHIIXxAFCNENW7ACXPAmPkwQQzALf/8SCHHwJ9GQApvyAdvwJ2rACDBRDGQgB4BhEDkQB9kABzugxgVx6Im+6HPS6I8e6XMy6TIRIQNBDBEQXfcAAXZJxQ0h6nOi6Izu6H8C6ZJO6SqS6QRxCT8wED+ACYU+ELbOJbhe6ro+J7ye6r5OEuvgCtRe7a4gmv/A6gIhCH4uEFNA5wbBDwNgAORuABLgvujevguwAene7u7+7vAe7/I+7/Re7/Zu7xVw7ve+7/ze7/7+7/TeAQcA8ARf8AZ/8O1+AB6A8Azf8A4v7xFgAfWOBxfxDFBw8RgPBYqZ7cA+EJFABMheXweBDLdQ8rcQDS2c8tOQ8izf8i7/8jAf8zL/P/M0X/M2bw3VYPM6v/M83/M+X/Mr//NCP/REX/Qqb/RIn/RKL/PVYA00f+cgoe3/4AocgIf+sAGysClav/VcjxT9sA62sADroL6OkAv/sA8cUGKe4AGf2fVu//ZwXxPiQAF0TwExIBBO4Ou2wAEc0AFmH/eAH/iCXxNfz5mDf/iIn/iKv/iM3/hVwQ17QAd6bhD2wAhx0Al4eBn8cAlxMAmGBAvFJQmZgBncQAqSgA4IwQpxIAicexnwoAuU8PcFgQ2hLwkj2RjqkAl00AfQcBCbHweSwOIlIQ4WEAeEIAFhXBBQkASP4AJ3gBlnoAOP8APBUxBc0ASzxQeXEQ8S/2AEBZAMBzEJHcAIXtACHGwZZdACJYAGB+EJIjBbdtC7lnEGWEAIc8AAeVkQaZADjwAEAAHm30CCBQ0eRJhQ4UKGCfdkGRhoisFkEeT9m/bAXUOOHT1+BBmyYDgE4v6lU7DNIBdIIl2+hBkzoT9//xYkO9hvBKp//ViQkhlU6NCE/f7JQYPQ0xKiTZ0OtUewDsSC4hCA+6dOQbanXRcaiTQQGQSDiZ4Q9EDL61q2CEW9ILhj00owg0rta5tX78CbB7sNiPqvTZu9hb0iVdqCUKVyhh13dTPGIKkWBHtkeuw0RamB3wDAK2hH8kAbnDKfdrkICUErggzaaXPHhY57qP9ti+xrMFgEgn603AbuEfFBVWDyXKGALPjyhs0gMDPYyAjBK4GYv3QRauA2wAXzCBz4QtR18gMfESH4JFHCeyYqlYdvE6dBYwwI7vkSv/xwhW8m6r+umxAoOSgSIQiK4hAAO3JivX96scCg8wbyx4JeFgTuFBMIekG7hLzIA8PlciuIHADWGegMOUQMjr+EQmGBxdu6EeERhFAhgaAYPJFRIUd+MOoNMgYKhpx/uFkAK1o00KfHzNyBQJl/qGFAnX+8MeYffwJbp4NOnESNRGyeGSgHSf6Jh4NcwDyNP3tmwecfeigUgws2HQOHhEEMUoabf96BAKdqGEjnzoLgmWH/CC40sGagEjA7agQyMrjEUMMO2aCMDgAZCJEd/rmnAiu8yEALfizdawobCFjBhnP+oeOKgWCpYIwXsEB1r0xsyMACG2zcBgCTrDAijBhGwCbXvLhQwAZnwTPCj4ESydSDP5QFdRVRUByomUIHGqaTarDV65lOpByonGgGwsaUUJoht61njKHXmCa9uYagbzyxpaZ4vSKnXmPC+QefYZpcp5VObonz366wEXiagagxaSBz0XU4Y4035rhjjz8GOWSRRya5ZJNPRjlllVdmuWWXX4Y5Zplnprlmm2/GOWedd+a5Z59/BjpooYcmumijj0Y6aaWXZrppp5+GOmqpp6a6CGqrr8aaoIAAACH5BAUUAAIALFcCjwEBAAEAAAgEAAUEBAAh+QQFFAACACxXAo8BAQABAAAIBAAFBAQAIfkEBRQAAgAsVwKPAQEAAQAACAQABQQEACH5BAUUAAIALFcCjwEBAAEAAAgEAAUEBAAh+QQFFAACACxXAo8BAQABAAAIBAAFBAQAIfkEBRQAAgAsVwKPAQEAAQAACAQABQQEACH5BAUUAAIALFcCjwEBAAEAAAgEAAUEBAAh+QQFFAACACxXAo8BAQABAAAIBAAFBAQAIfkEBRQAAgAsVwKPAQEAAQAACAQABQQEACH5BAUUAAIALFcCjwEBAAEAAAgEAAUEBAAh+QQFFAACACxXAo8BAQABAAAIBAAFBAQAIfkEBRQAAgAsVwKPAQEAAQAACAQABQQEACH5BAUUAAIALFcCjwEBAAEAAAgEAAUEBAAh+QQFFAACACxXAo8BAQABAAAIBAAFBAQAIfkEBRQAAgAsVwKPAQEAAQAACAQABQQEACH5BAUUAAIALFcCjwEBAAEAAAgEAAUEBAAh+QQFFAACACxXAo8BAQABAAAIBAAFBAQAIfkEBRQAAgAsVwKPAQEAAQAACAQABQQEACH5BAUUAAIALFcCjwEBAAEAAAgEAAUEBAAh+QQFFAACACxXAo8BAQABAAAIBAAFBAQAIfkEBRQAAgAsVwKPAQEAAQAACAQABQQEACH5BAUUAAIALFcCjwEBAAEAAAgEAAUEBAAh+QQFFAACACxXAo8BAQABAAAIBAAFBAQAIfkEBRQAAgAsVwKPAQEAAQAACAQABQQEADs=\" />"
      ],
      "text/plain": [
       "Plots.AnimatedGif(\"/home/daniil/program/julia/anim2_x.gif\")"
      ]
     },
     "execution_count": 43,
     "metadata": {},
     "output_type": "execute_result"
    }
   ],
   "source": [
    "anim = @animate for i ∈ 1:m\n",
    "    plot(t, [X[i, :]], label=L\"x\",ylims=(-1,1),lw=3)\n",
    "end\n",
    "gif(anim, \"anim2_x.gif\", fps = 5)"
   ]
  },
  {
   "cell_type": "code",
   "execution_count": null,
   "id": "7fb5b826-48cc-4104-9948-145aefb1ea30",
   "metadata": {},
   "outputs": [],
   "source": []
  },
  {
   "cell_type": "code",
   "execution_count": null,
   "id": "3bdab7bf-0fcf-4615-a34a-d058986fcf28",
   "metadata": {},
   "outputs": [],
   "source": []
  }
 ],
 "metadata": {
  "kernelspec": {
   "display_name": "Julia 1.10.2",
   "language": "julia",
   "name": "julia-1.10"
  },
  "language_info": {
   "file_extension": ".jl",
   "mimetype": "application/julia",
   "name": "julia",
   "version": "1.10.2"
  }
 },
 "nbformat": 4,
 "nbformat_minor": 5
}
